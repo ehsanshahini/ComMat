{
 "cells": [
  {
   "cell_type": "markdown",
   "metadata": {
    "id": "m3PAEPRDRLA3"
   },
   "source": [
    "# Support Vector Regression (SVR)"
   ]
  },
  {
   "cell_type": "markdown",
   "metadata": {
    "id": "0VCUAVIjRdzZ"
   },
   "source": [
    "## Importing the libraries"
   ]
  },
  {
   "cell_type": "code",
   "execution_count": null,
   "metadata": {
    "executionInfo": {
     "elapsed": 562,
     "status": "ok",
     "timestamp": 1620754651787,
     "user": {
      "displayName": "ehsan shahini",
      "photoUrl": "https://lh3.googleusercontent.com/a-/AOh14GhK1vTSveBPWKMvfgtbVVT61zF9sibaB_uE6Ck0aw=s64",
      "userId": "16904200120619106608"
     },
     "user_tz": 360
    },
    "id": "56oRF-QfSDzC"
   },
   "outputs": [],
   "source": [
    "import numpy as np\n",
    "import matplotlib.pyplot as plt\n",
    "import pandas as pd\n",
    "import sys"
   ]
  },
  {
   "cell_type": "markdown",
   "metadata": {
    "id": "fXVXoFWtSF4_"
   },
   "source": [
    "## Importing the dataset"
   ]
  },
  {
   "cell_type": "code",
   "execution_count": null,
   "metadata": {
    "executionInfo": {
     "elapsed": 857,
     "status": "ok",
     "timestamp": 1620754652093,
     "user": {
      "displayName": "ehsan shahini",
      "photoUrl": "https://lh3.googleusercontent.com/a-/AOh14GhK1vTSveBPWKMvfgtbVVT61zF9sibaB_uE6Ck0aw=s64",
      "userId": "16904200120619106608"
     },
     "user_tz": 360
    },
    "id": "xfoa8OSORfHQ"
   },
   "outputs": [],
   "source": [
    "dataset = pd.read_csv('Elastic.csv')\n",
    "X = dataset.iloc[:, :4].values # first 4 column\n",
    "y = dataset.iloc[:, -2].values # the one before last"
   ]
  },
  {
   "cell_type": "code",
   "execution_count": null,
   "metadata": {
    "colab": {
     "base_uri": "https://localhost:8080/"
    },
    "executionInfo": {
     "elapsed": 852,
     "status": "ok",
     "timestamp": 1620754652094,
     "user": {
      "displayName": "ehsan shahini",
      "photoUrl": "https://lh3.googleusercontent.com/a-/AOh14GhK1vTSveBPWKMvfgtbVVT61zF9sibaB_uE6Ck0aw=s64",
      "userId": "16904200120619106608"
     },
     "user_tz": 360
    },
    "id": "B2fKjOQWaVSG",
    "outputId": "21e9f423-583b-4ea3-846e-c7da95932a36"
   },
   "outputs": [],
   "source": [
    "print(X)"
   ]
  },
  {
   "cell_type": "code",
   "execution_count": null,
   "metadata": {
    "colab": {
     "base_uri": "https://localhost:8080/"
    },
    "executionInfo": {
     "elapsed": 846,
     "status": "ok",
     "timestamp": 1620754652094,
     "user": {
      "displayName": "ehsan shahini",
      "photoUrl": "https://lh3.googleusercontent.com/a-/AOh14GhK1vTSveBPWKMvfgtbVVT61zF9sibaB_uE6Ck0aw=s64",
      "userId": "16904200120619106608"
     },
     "user_tz": 360
    },
    "id": "Z3JWlBECauvr",
    "outputId": "2551cd0b-4526-4bb6-f0bc-96410a4ad36e"
   },
   "outputs": [],
   "source": [
    "print(y)"
   ]
  },
  {
   "cell_type": "code",
   "execution_count": 9,
   "metadata": {
    "executionInfo": {
     "elapsed": 841,
     "status": "ok",
     "timestamp": 1620754652095,
     "user": {
      "displayName": "ehsan shahini",
      "photoUrl": "https://lh3.googleusercontent.com/a-/AOh14GhK1vTSveBPWKMvfgtbVVT61zF9sibaB_uE6Ck0aw=s64",
      "userId": "16904200120619106608"
     },
     "user_tz": 360
    },
    "id": "_8Ny1GfPiV3m"
   },
   "outputs": [],
   "source": [
    "y = y.reshape(len(y),1)"
   ]
  },
  {
   "cell_type": "markdown",
   "metadata": {
    "id": "6Vk3nNlrCVCN"
   },
   "source": [
    "## Splitting the dataset into the Training set and Test set"
   ]
  },
  {
   "cell_type": "code",
   "execution_count": null,
   "metadata": {
    "executionInfo": {
     "elapsed": 837,
     "status": "ok",
     "timestamp": 1620754652095,
     "user": {
      "displayName": "ehsan shahini",
      "photoUrl": "https://lh3.googleusercontent.com/a-/AOh14GhK1vTSveBPWKMvfgtbVVT61zF9sibaB_uE6Ck0aw=s64",
      "userId": "16904200120619106608"
     },
     "user_tz": 360
    },
    "id": "x_fXqrziCV3_"
   },
   "outputs": [],
   "source": [
    "from sklearn.model_selection import train_test_split\n",
    "X_train, X_test, y_train, y_test = train_test_split(X, y, test_size = 0.2, random_state = 0)"
   ]
  },
  {
   "cell_type": "markdown",
   "metadata": {
    "id": "YS8FeLHYS-nI"
   },
   "source": [
    "## Feature Scaling"
   ]
  },
  {
   "cell_type": "code",
   "execution_count": null,
   "metadata": {
    "executionInfo": {
     "elapsed": 834,
     "status": "ok",
     "timestamp": 1620754652096,
     "user": {
      "displayName": "ehsan shahini",
      "photoUrl": "https://lh3.googleusercontent.com/a-/AOh14GhK1vTSveBPWKMvfgtbVVT61zF9sibaB_uE6Ck0aw=s64",
      "userId": "16904200120619106608"
     },
     "user_tz": 360
    },
    "id": "PGeAlD1HTDI1"
   },
   "outputs": [],
   "source": [
    "from sklearn.preprocessing import StandardScaler\n",
    "sc_X = StandardScaler()\n",
    "sc_y = StandardScaler()\n",
    "X_train = sc_X.fit_transform(X_train)\n",
    "y_train = sc_y.fit_transform(y_train)"
   ]
  },
  {
   "cell_type": "code",
   "execution_count": null,
   "metadata": {},
   "outputs": [],
   "source": [
    "y = column_or_1d(y, warn=True)"
   ]
  },
  {
   "cell_type": "markdown",
   "metadata": {
    "id": "eiU6D2QFRjxY"
   },
   "source": [
    "## Training the SVR model on the Training set"
   ]
  },
  {
   "cell_type": "code",
   "execution_count": null,
   "metadata": {
    "colab": {
     "base_uri": "https://localhost:8080/"
    },
    "executionInfo": {
     "elapsed": 1288,
     "status": "ok",
     "timestamp": 1620754652554,
     "user": {
      "displayName": "ehsan shahini",
      "photoUrl": "https://lh3.googleusercontent.com/a-/AOh14GhK1vTSveBPWKMvfgtbVVT61zF9sibaB_uE6Ck0aw=s64",
      "userId": "16904200120619106608"
     },
     "user_tz": 360
    },
    "id": "y6R4rt_GRz15",
    "outputId": "742f7c2e-f940-4935-a66c-3970ab7b91da"
   },
   "outputs": [],
   "source": [
    "from sklearn.svm import SVR\n",
    "regressor = SVR(kernel = 'rbf')\n",
    "regressor.fit(X_train, y_train)"
   ]
  },
  {
   "cell_type": "markdown",
   "metadata": {
    "id": "aPYA5W1pDBOE"
   },
   "source": [
    "## Predicting the Test set results"
   ]
  },
  {
   "cell_type": "code",
   "execution_count": null,
   "metadata": {
    "colab": {
     "base_uri": "https://localhost:8080/"
    },
    "executionInfo": {
     "elapsed": 1287,
     "status": "ok",
     "timestamp": 1620754652558,
     "user": {
      "displayName": "ehsan shahini",
      "photoUrl": "https://lh3.googleusercontent.com/a-/AOh14GhK1vTSveBPWKMvfgtbVVT61zF9sibaB_uE6Ck0aw=s64",
      "userId": "16904200120619106608"
     },
     "user_tz": 360
    },
    "id": "vSqFVDYrDROW",
    "outputId": "0490eba4-9160-462d-ee64-9496d32dcbbf"
   },
   "outputs": [],
   "source": [
    "y_pred = sc_y.inverse_transform(regressor.predict(sc_X.transform(X_test)))\n",
    "np.set_printoptions(precision=2)\n",
    "prediction = np.concatenate((y_pred.reshape(len(y_pred),1), y_test.reshape(len(y_test),1)),1)\n",
    "print(np.concatenate((y_pred.reshape(len(y_pred),1), y_test.reshape(len(y_test),1)),1))"
   ]
  },
  {
   "cell_type": "code",
   "execution_count": null,
   "metadata": {
    "colab": {
     "base_uri": "https://localhost:8080/"
    },
    "executionInfo": {
     "elapsed": 306,
     "status": "ok",
     "timestamp": 1620754671152,
     "user": {
      "displayName": "ehsan shahini",
      "photoUrl": "https://lh3.googleusercontent.com/a-/AOh14GhK1vTSveBPWKMvfgtbVVT61zF9sibaB_uE6Ck0aw=s64",
      "userId": "16904200120619106608"
     },
     "user_tz": 360
    },
    "id": "YncY1XNwcfRS",
    "outputId": "df7ff7dd-5dfd-4f1e-b415-b0c9a594e62f"
   },
   "outputs": [],
   "source": [
    "file = open(\"data_pred.txt\", \"w\")\n",
    "file.write(\"%s = %s\\n\" %(\"a_dictionary\", prediction))\n",
    "file.close"
   ]
  },
  {
   "cell_type": "markdown",
   "metadata": {
    "id": "CMsYlps2DX1d"
   },
   "source": [
    "## Evaluating the Model Performance"
   ]
  },
  {
   "cell_type": "code",
   "execution_count": null,
   "metadata": {
    "colab": {
     "base_uri": "https://localhost:8080/"
    },
    "executionInfo": {
     "elapsed": 1279,
     "status": "ok",
     "timestamp": 1620754652560,
     "user": {
      "displayName": "ehsan shahini",
      "photoUrl": "https://lh3.googleusercontent.com/a-/AOh14GhK1vTSveBPWKMvfgtbVVT61zF9sibaB_uE6Ck0aw=s64",
      "userId": "16904200120619106608"
     },
     "user_tz": 360
    },
    "id": "HxsRWlURDr6S",
    "outputId": "e55effb6-5beb-4833-aead-0bfc0143c42a"
   },
   "outputs": [],
   "source": [
    "from sklearn.metrics import r2_score\n",
    "r2_score(y_test, y_pred)"
   ]
  },
  {
   "cell_type": "code",
   "execution_count": null,
   "metadata": {},
   "outputs": [],
   "source": [
    "pwd"
   ]
  },
  {
   "cell_type": "code",
   "execution_count": null,
   "metadata": {},
   "outputs": [],
   "source": []
  }
 ],
 "metadata": {
  "colab": {
   "collapsed_sections": [],
   "name": "Copy of support_vector_regression.ipynb",
   "provenance": [
    {
     "file_id": "1_W78xZXurR5C4YLfl3H9mDdmzK-pgnwe",
     "timestamp": 1620491101241
    }
   ],
   "toc_visible": true
  },
  "kernelspec": {
   "display_name": "Python 3",
   "language": "python",
   "name": "python3"
  },
  "language_info": {
   "codemirror_mode": {
    "name": "ipython",
    "version": 3
   },
   "file_extension": ".py",
   "mimetype": "text/x-python",
   "name": "python",
   "nbconvert_exporter": "python",
   "pygments_lexer": "ipython3",
   "version": "3.7.6"
  }
 },
 "nbformat": 4,
 "nbformat_minor": 1
}
