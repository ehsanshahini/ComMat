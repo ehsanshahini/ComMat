{
 "cells": [
  {
   "cell_type": "markdown",
   "metadata": {
    "id": "LeamvpPVXuS_"
   },
   "source": [
    "# Random Forest Regression"
   ]
  },
  {
   "cell_type": "markdown",
   "metadata": {
    "id": "O2wvZ7SKXzVC"
   },
   "source": [
    "## Importing the libraries"
   ]
  },
  {
   "cell_type": "code",
   "execution_count": 18,
   "metadata": {
    "executionInfo": {
     "elapsed": 196,
     "status": "ok",
     "timestamp": 1631832856688,
     "user": {
      "displayName": "Saeed Sheikhi Mohammadabadi",
      "photoUrl": "https://lh3.googleusercontent.com/a-/AOh14Gi14LQt8qsxDGHfjlr2YU_qh-KIncwDyfJD_XJr=s64",
      "userId": "14228971798507462651"
     },
     "user_tz": 360
    },
    "id": "PVmESEFZX4Ig"
   },
   "outputs": [],
   "source": [
    "import numpy as np\n",
    "import matplotlib.pyplot as plt\n",
    "plt.rcParams[\"font.family\"] = \"Times New Roman\"\n",
    "import pandas as pd\n",
    "import sys\n",
    "from pylab import rcParams\n",
    "import seaborn as sb\n",
    "#np.set_printoptions(threshold=sys.maxsize)"
   ]
  },
  {
   "cell_type": "markdown",
   "metadata": {
    "id": "zgbK_F8-X7em"
   },
   "source": [
    "## Importing the dataset"
   ]
  },
  {
   "cell_type": "code",
   "execution_count": 38,
   "metadata": {
    "executionInfo": {
     "elapsed": 208,
     "status": "ok",
     "timestamp": 1631832860716,
     "user": {
      "displayName": "Saeed Sheikhi Mohammadabadi",
      "photoUrl": "https://lh3.googleusercontent.com/a-/AOh14Gi14LQt8qsxDGHfjlr2YU_qh-KIncwDyfJD_XJr=s64",
      "userId": "14228971798507462651"
     },
     "user_tz": 360
    },
    "id": "adBE4tjQX_Bh"
   },
   "outputs": [],
   "source": [
    "dataset = pd.read_csv('../model/Elastic_model.csv')\n",
    "dataset_plot = dataset.iloc[:,:3]\n",
    "X = dataset.iloc[:, :3].values # first 4 column\n",
    "y = dataset.iloc[:, -1].values # stress"
   ]
  },
  {
   "cell_type": "code",
   "execution_count": 39,
   "metadata": {
    "colab": {
     "base_uri": "https://localhost:8080/",
     "height": 436
    },
    "executionInfo": {
     "elapsed": 210,
     "status": "ok",
     "timestamp": 1631829033888,
     "user": {
      "displayName": "Saeed Sheikhi Mohammadabadi",
      "photoUrl": "https://lh3.googleusercontent.com/a-/AOh14Gi14LQt8qsxDGHfjlr2YU_qh-KIncwDyfJD_XJr=s64",
      "userId": "14228971798507462651"
     },
     "user_tz": 360
    },
    "id": "a-mzrY6sfdPD",
    "outputId": "7962735e-be8a-4d49-a06f-f154a60c1608"
   },
   "outputs": [
    {
     "data": {
      "text/plain": [
       "array([0.   , 0.   , 0.   , ..., 3.66 , 3.712, 3.866])"
      ]
     },
     "execution_count": 39,
     "metadata": {},
     "output_type": "execute_result"
    }
   ],
   "source": [
    "y"
   ]
  },
  {
   "cell_type": "markdown",
   "metadata": {
    "id": "nIEyonJnElA0"
   },
   "source": [
    "## Data Visualization"
   ]
  },
  {
   "cell_type": "code",
   "execution_count": null,
   "metadata": {
    "id": "x6IddA1lEqq4"
   },
   "outputs": [],
   "source": [
    "%matplotlib inline\n",
    "rcParams['figure.figsize'] = 5,4\n",
    "sb.set_style('whitegrid')"
   ]
  },
  {
   "cell_type": "code",
   "execution_count": 3,
   "metadata": {
    "colab": {
     "base_uri": "https://localhost:8080/",
     "height": 282
    },
    "executionInfo": {
     "elapsed": 327,
     "status": "ok",
     "timestamp": 1628559481381,
     "user": {
      "displayName": "ehsan shahini",
      "photoUrl": "https://lh3.googleusercontent.com/a-/AOh14GhK1vTSveBPWKMvfgtbVVT61zF9sibaB_uE6Ck0aw=s64",
      "userId": "16904200120619106608"
     },
     "user_tz": 360
    },
    "id": "6Yi0Bpn4FEs6",
    "outputId": "b43804dd-423f-4593-c32e-3daa10d831f5"
   },
   "outputs": [
    {
     "ename": "NameError",
     "evalue": "name 'dataset' is not defined",
     "output_type": "error",
     "traceback": [
      "\u001b[1;31m---------------------------------------------------------------------------\u001b[0m",
      "\u001b[1;31mNameError\u001b[0m                                 Traceback (most recent call last)",
      "\u001b[1;32m<ipython-input-3-8202cf72777f>\u001b[0m in \u001b[0;36m<module>\u001b[1;34m\u001b[0m\n\u001b[1;32m----> 1\u001b[1;33m \u001b[0mdataset\u001b[0m\u001b[1;33m.\u001b[0m\u001b[0mboxplot\u001b[0m\u001b[1;33m(\u001b[0m\u001b[0mreturn_type\u001b[0m\u001b[1;33m=\u001b[0m\u001b[1;34m'dict'\u001b[0m\u001b[1;33m)\u001b[0m\u001b[1;33m\u001b[0m\u001b[1;33m\u001b[0m\u001b[0m\n\u001b[0m\u001b[0;32m      2\u001b[0m \u001b[0mplt\u001b[0m\u001b[1;33m.\u001b[0m\u001b[0mplot\u001b[0m\u001b[1;33m(\u001b[0m\u001b[1;33m)\u001b[0m\u001b[1;33m\u001b[0m\u001b[1;33m\u001b[0m\u001b[0m\n",
      "\u001b[1;31mNameError\u001b[0m: name 'dataset' is not defined"
     ]
    }
   ],
   "source": [
    "dataset.boxplot(return_type='dict')\n",
    "plt.plot()"
   ]
  },
  {
   "cell_type": "markdown",
   "metadata": {
    "id": "QWg-xR8jfdPK"
   },
   "source": [
    "### Pairplot"
   ]
  },
  {
   "cell_type": "code",
   "execution_count": 2,
   "metadata": {
    "colab": {
     "base_uri": "https://localhost:8080/",
     "height": 977
    },
    "executionInfo": {
     "elapsed": 25604,
     "status": "ok",
     "timestamp": 1631833013457,
     "user": {
      "displayName": "Saeed Sheikhi Mohammadabadi",
      "photoUrl": "https://lh3.googleusercontent.com/a-/AOh14Gi14LQt8qsxDGHfjlr2YU_qh-KIncwDyfJD_XJr=s64",
      "userId": "14228971798507462651"
     },
     "user_tz": 360
    },
    "id": "iaqaEpfqfdPK",
    "outputId": "0f2b3271-5a20-4e62-e22e-03b2f6923cfc"
   },
   "outputs": [
    {
     "ename": "NameError",
     "evalue": "name 'sb' is not defined",
     "output_type": "error",
     "traceback": [
      "\u001b[1;31m---------------------------------------------------------------------------\u001b[0m",
      "\u001b[1;31mNameError\u001b[0m                                 Traceback (most recent call last)",
      "\u001b[1;32m<ipython-input-2-f65f3be44e64>\u001b[0m in \u001b[0;36m<module>\u001b[1;34m\u001b[0m\n\u001b[1;32m----> 1\u001b[1;33m \u001b[0msb\u001b[0m\u001b[1;33m.\u001b[0m\u001b[0mset\u001b[0m\u001b[1;33m(\u001b[0m\u001b[0mfont\u001b[0m\u001b[1;33m=\u001b[0m\u001b[1;34m\"Times New Roman\"\u001b[0m\u001b[1;33m,\u001b[0m\u001b[0mstyle\u001b[0m\u001b[1;33m=\u001b[0m\u001b[1;34m'white'\u001b[0m\u001b[1;33m)\u001b[0m\u001b[1;33m\u001b[0m\u001b[1;33m\u001b[0m\u001b[0m\n\u001b[0m\u001b[0;32m      2\u001b[0m \u001b[1;33m\u001b[0m\u001b[0m\n\u001b[0;32m      3\u001b[0m \u001b[0msb\u001b[0m\u001b[1;33m.\u001b[0m\u001b[0mset_context\u001b[0m\u001b[1;33m(\u001b[0m\u001b[1;34m\"talk\"\u001b[0m\u001b[1;33m,\u001b[0m \u001b[0mfont_scale\u001b[0m \u001b[1;33m=\u001b[0m \u001b[1;36m4\u001b[0m\u001b[1;33m)\u001b[0m\u001b[1;33m\u001b[0m\u001b[1;33m\u001b[0m\u001b[0m\n\u001b[0;32m      4\u001b[0m sb.pairplot(vars = ['Radius (A°)', 'Coil diameter (A°)', 'Pitch angle (deg)', 'Pitch length (A°)','Stress (GPa)','Strain'],\n\u001b[0;32m      5\u001b[0m              \u001b[0mdata\u001b[0m \u001b[1;33m=\u001b[0m \u001b[0mdataset\u001b[0m\u001b[1;33m,\u001b[0m\u001b[1;33m\u001b[0m\u001b[1;33m\u001b[0m\u001b[0m\n",
      "\u001b[1;31mNameError\u001b[0m: name 'sb' is not defined"
     ]
    }
   ],
   "source": [
    "\n",
    "sb.set(font=\"Times New Roman\",style='white')\n",
    "\n",
    "sb.set_context(\"talk\", font_scale = 4)\n",
    "sb.pairplot(vars = ['Radius (A°)', 'Coil diameter (A°)', 'Pitch angle (deg)', 'Pitch length (A°)','Stress (GPa)','Strain'],\n",
    "             data = dataset,\n",
    "             kind = 'scatter',\n",
    "             diag_kind = \"hist\",\n",
    "             diag_kws = {'alpha':.9},\n",
    "            height = 10,\n",
    "            aspect = 1,\n",
    "            plot_kws=dict(edgecolor=\"none\"))\n",
    "\n",
    "plt.show()\n",
    "plt.clf()"
   ]
  },
  {
   "cell_type": "markdown",
   "metadata": {},
   "source": [
    "### Correlation matrix"
   ]
  },
  {
   "cell_type": "code",
   "execution_count": 1,
   "metadata": {},
   "outputs": [
    {
     "ename": "NameError",
     "evalue": "name 'plt' is not defined",
     "output_type": "error",
     "traceback": [
      "\u001b[1;31m---------------------------------------------------------------------------\u001b[0m",
      "\u001b[1;31mNameError\u001b[0m                                 Traceback (most recent call last)",
      "\u001b[1;32m<ipython-input-1-0794dfe9ff76>\u001b[0m in \u001b[0;36m<module>\u001b[1;34m\u001b[0m\n\u001b[1;32m----> 1\u001b[1;33m \u001b[0mplt\u001b[0m\u001b[1;33m.\u001b[0m\u001b[0mfigure\u001b[0m\u001b[1;33m(\u001b[0m\u001b[0mfigsize\u001b[0m\u001b[1;33m=\u001b[0m\u001b[1;33m(\u001b[0m\u001b[1;36m50\u001b[0m\u001b[1;33m,\u001b[0m\u001b[1;36m50\u001b[0m\u001b[1;33m)\u001b[0m\u001b[1;33m)\u001b[0m\u001b[1;33m\u001b[0m\u001b[1;33m\u001b[0m\u001b[0m\n\u001b[0m\u001b[0;32m      2\u001b[0m \u001b[0mplt\u001b[0m\u001b[1;33m.\u001b[0m\u001b[0mxticks\u001b[0m\u001b[1;33m(\u001b[0m\u001b[0mweight\u001b[0m \u001b[1;33m=\u001b[0m \u001b[1;34m'bold'\u001b[0m\u001b[1;33m)\u001b[0m\u001b[1;33m\u001b[0m\u001b[1;33m\u001b[0m\u001b[0m\n\u001b[0;32m      3\u001b[0m \u001b[0mplt\u001b[0m\u001b[1;33m.\u001b[0m\u001b[0myticks\u001b[0m\u001b[1;33m(\u001b[0m\u001b[0mweight\u001b[0m \u001b[1;33m=\u001b[0m \u001b[1;34m'bold'\u001b[0m \u001b[1;33m)\u001b[0m\u001b[1;33m\u001b[0m\u001b[1;33m\u001b[0m\u001b[0m\n\u001b[0;32m      4\u001b[0m \u001b[0mdataset_trunc\u001b[0m \u001b[1;33m=\u001b[0m \u001b[0mdataset\u001b[0m\u001b[1;33m[\u001b[0m\u001b[1;33m[\u001b[0m\u001b[1;34m'Radius (A°)'\u001b[0m\u001b[1;33m,\u001b[0m \u001b[1;34m'Coil diameter (A°)'\u001b[0m\u001b[1;33m,\u001b[0m \u001b[1;34m'Pitch angle (deg)'\u001b[0m\u001b[1;33m,\u001b[0m \u001b[1;34m'Pitch length (A°)'\u001b[0m\u001b[1;33m,\u001b[0m\u001b[1;34m'Stress (GPa)'\u001b[0m\u001b[1;33m,\u001b[0m\u001b[1;34m'Strain'\u001b[0m\u001b[1;33m]\u001b[0m\u001b[1;33m]\u001b[0m\u001b[1;33m\u001b[0m\u001b[1;33m\u001b[0m\u001b[0m\n\u001b[0;32m      5\u001b[0m \u001b[0mcorrelation_mat\u001b[0m \u001b[1;33m=\u001b[0m \u001b[0mdataset_trunc\u001b[0m\u001b[1;33m.\u001b[0m\u001b[0mcorr\u001b[0m\u001b[1;33m(\u001b[0m\u001b[1;33m)\u001b[0m\u001b[1;33m\u001b[0m\u001b[1;33m\u001b[0m\u001b[0m\n",
      "\u001b[1;31mNameError\u001b[0m: name 'plt' is not defined"
     ]
    }
   ],
   "source": [
    "plt.figure(figsize=(50,50))\n",
    "plt.xticks(weight = 'bold')\n",
    "plt.yticks(weight = 'bold' )\n",
    "dataset_trunc = dataset[['Radius (A°)', 'Coil diameter (A°)', 'Pitch angle (deg)', 'Pitch length (A°)','Stress (GPa)','Strain']]\n",
    "correlation_mat = dataset_trunc.corr()\n",
    "\n",
    "sb.heatmap(correlation_mat, annot = True)\n",
    "\n",
    "\n",
    "plt.show()"
   ]
  },
  {
   "cell_type": "markdown",
   "metadata": {
    "id": "UEDokUcWakEh"
   },
   "source": [
    "## Outlier Detection\n",
    "A simple approach is eliminating data that are higher than 1.5*(75%-25%) + 75% or\n",
    "less than 25% - 1.5*(75%-25%)\n"
   ]
  },
  {
   "cell_type": "code",
   "execution_count": null,
   "metadata": {
    "colab": {
     "base_uri": "https://localhost:8080/"
    },
    "executionInfo": {
     "elapsed": 169,
     "status": "ok",
     "timestamp": 1628559485448,
     "user": {
      "displayName": "ehsan shahini",
      "photoUrl": "https://lh3.googleusercontent.com/a-/AOh14GhK1vTSveBPWKMvfgtbVVT61zF9sibaB_uE6Ck0aw=s64",
      "userId": "16904200120619106608"
     },
     "user_tz": 360
    },
    "id": "afWVljQvXltK",
    "outputId": "9ed29758-db4a-43b8-b273-0988c24ff612"
   },
   "outputs": [
    {
     "name": "stdout",
     "output_type": "stream",
     "text": [
      "       Radius  Coil diameter  Pitch angle  ...  Yield stress  Strainend  Toughness\n",
      "count 4362.00        4362.00      4362.00  ...       4362.00    4362.00    4362.00\n",
      "mean     6.56           6.78        44.52  ...         23.94       0.71       5.64\n",
      "std      4.08           3.22        16.59  ...         15.08       0.77       4.88\n",
      "min      1.45           0.97         2.53  ...          0.90       0.01       0.00\n",
      "25%      3.79           4.48        32.37  ...         10.37       0.21       2.85\n",
      "50%      4.95           6.38        44.84  ...         20.83       0.41       3.92\n",
      "75%      8.14           8.30        55.73  ...         36.68       0.90       6.42\n",
      "max     26.38          19.15        85.71  ...         67.82       6.21      41.64\n",
      "\n",
      "[8 rows x 9 columns]\n"
     ]
    }
   ],
   "source": [
    "pd.options.display.float_format = '{:.2f}'.format\n",
    "X_df = pd.DataFrame(dataset)\n",
    "print(X_df.describe())"
   ]
  },
  {
   "cell_type": "markdown",
   "metadata": {
    "id": "ptNjcy7bOBlD"
   },
   "source": [
    "## Splitting the dataset into the Training set and Test set"
   ]
  },
  {
   "cell_type": "code",
   "execution_count": 40,
   "metadata": {
    "id": "C7NdofoCOFQF"
   },
   "outputs": [],
   "source": [
    "from sklearn.model_selection import train_test_split\n",
    "X_train, X_test, y_train, y_test = train_test_split(X, y, test_size = 0.2, random_state = 1)"
   ]
  },
  {
   "cell_type": "markdown",
   "metadata": {
    "id": "nIEyonJnElA0"
   },
   "source": [
    "## hyperparameter tuning"
   ]
  },
  {
   "cell_type": "markdown",
   "metadata": {},
   "source": [
    "### Random Hyperparameter Grid"
   ]
  },
  {
   "cell_type": "code",
   "execution_count": 9,
   "metadata": {},
   "outputs": [
    {
     "name": "stdout",
     "output_type": "stream",
     "text": [
      "{'bootstrap': [True, False],\n",
      " 'max_depth': [10, 20, 30, 40, 50, 60, 70, 80, 90, 100, 110, None],\n",
      " 'max_features': ['auto', 'sqrt'],\n",
      " 'min_samples_leaf': [1, 2, 4],\n",
      " 'min_samples_split': [2, 5, 10],\n",
      " 'n_estimators': [200, 400, 600, 800, 1000, 1200, 1400, 1600, 1800, 2000]}\n"
     ]
    }
   ],
   "source": [
    "from sklearn.model_selection import RandomizedSearchCV# Number of trees in random forest\n",
    "from pprint import pprint\n",
    "n_estimators = [int(x) for x in np.linspace(start = 200, stop = 2000, num = 10)]\n",
    "# Number of features to consider at every split\n",
    "max_features = ['auto', 'sqrt']\n",
    "# Maximum number of levels in tree\n",
    "max_depth = [int(x) for x in np.linspace(10, 110, num = 11)]\n",
    "max_depth.append(None)\n",
    "# Minimum number of samples required to split a node\n",
    "min_samples_split = [2, 5, 10]\n",
    "# Minimum number of samples required at each leaf node\n",
    "min_samples_leaf = [1, 2, 4]\n",
    "# Method of selecting samples for training each tree\n",
    "bootstrap = [True, False]# Create the random grid\n",
    "random_grid = {'n_estimators': n_estimators,\n",
    "               'max_features': max_features,\n",
    "               'max_depth': max_depth,\n",
    "               'min_samples_split': min_samples_split,\n",
    "               'min_samples_leaf': min_samples_leaf,\n",
    "               'bootstrap': bootstrap}\n",
    "pprint(random_grid)"
   ]
  },
  {
   "cell_type": "markdown",
   "metadata": {},
   "source": [
    "### Random Search Training"
   ]
  },
  {
   "cell_type": "code",
   "execution_count": 10,
   "metadata": {},
   "outputs": [
    {
     "name": "stdout",
     "output_type": "stream",
     "text": [
      "Fitting 3 folds for each of 100 candidates, totalling 300 fits\n"
     ]
    },
    {
     "name": "stderr",
     "output_type": "stream",
     "text": [
      "[Parallel(n_jobs=-1)]: Using backend LokyBackend with 8 concurrent workers.\n",
      "[Parallel(n_jobs=-1)]: Done  25 tasks      | elapsed:   39.6s\n",
      "[Parallel(n_jobs=-1)]: Done 146 tasks      | elapsed:  3.8min\n",
      "[Parallel(n_jobs=-1)]: Done 300 out of 300 | elapsed:  8.2min finished\n"
     ]
    },
    {
     "data": {
      "text/plain": [
       "RandomizedSearchCV(cv=3, estimator=RandomForestRegressor(), n_iter=100,\n",
       "                   n_jobs=-1,\n",
       "                   param_distributions={'bootstrap': [True, False],\n",
       "                                        'max_depth': [10, 20, 30, 40, 50, 60,\n",
       "                                                      70, 80, 90, 100, 110,\n",
       "                                                      None],\n",
       "                                        'max_features': ['auto', 'sqrt'],\n",
       "                                        'min_samples_leaf': [1, 2, 4],\n",
       "                                        'min_samples_split': [2, 5, 10],\n",
       "                                        'n_estimators': [200, 400, 600, 800,\n",
       "                                                         1000, 1200, 1400, 1600,\n",
       "                                                         1800, 2000]},\n",
       "                   random_state=42, verbose=2)"
      ]
     },
     "execution_count": 10,
     "metadata": {},
     "output_type": "execute_result"
    }
   ],
   "source": [
    "from sklearn.ensemble import RandomForestRegressor\n",
    "# Use the random grid to search for best hyperparameters\n",
    "# First create the base model to tune\n",
    "rf = RandomForestRegressor()\n",
    "# Random search of parameters, using 3 fold cross validation, \n",
    "# search across 100 different combinations, and use all available cores\n",
    "rf_random = RandomizedSearchCV(estimator = rf, param_distributions = random_grid, n_iter = 100, cv = 3, verbose=2, random_state=42, n_jobs = -1)# Fit the random search model\n",
    "rf_random.fit(X_train, y_train)"
   ]
  },
  {
   "cell_type": "code",
   "execution_count": 11,
   "metadata": {},
   "outputs": [
    {
     "data": {
      "text/plain": [
       "{'n_estimators': 1000,\n",
       " 'min_samples_split': 5,\n",
       " 'min_samples_leaf': 2,\n",
       " 'max_features': 'sqrt',\n",
       " 'max_depth': 10,\n",
       " 'bootstrap': True}"
      ]
     },
     "execution_count": 11,
     "metadata": {},
     "output_type": "execute_result"
    }
   ],
   "source": [
    "rf_random.best_params_"
   ]
  },
  {
   "cell_type": "markdown",
   "metadata": {
    "id": "B_eLWPZt7I13"
   },
   "source": [
    "## PCA"
   ]
  },
  {
   "cell_type": "code",
   "execution_count": 6,
   "metadata": {
    "colab": {
     "base_uri": "https://localhost:8080/"
    },
    "executionInfo": {
     "elapsed": 162,
     "status": "ok",
     "timestamp": 1628538309736,
     "user": {
      "displayName": "ehsan shahini",
      "photoUrl": "https://lh3.googleusercontent.com/a-/AOh14GhK1vTSveBPWKMvfgtbVVT61zF9sibaB_uE6Ck0aw=s64",
      "userId": "16904200120619106608"
     },
     "user_tz": 360
    },
    "id": "YwzFvRCR7Lpm",
    "outputId": "8944dc25-fcbe-49cb-d607-f2ac19049429"
   },
   "outputs": [
    {
     "data": {
      "text/plain": [
       "array([0.82446871, 0.15170817, 0.02050708, 0.00331604])"
      ]
     },
     "execution_count": 6,
     "metadata": {},
     "output_type": "execute_result"
    }
   ],
   "source": [
    "from sklearn.decomposition import PCA\n",
    "pca = PCA()\n",
    "X_train = pca.fit_transform(X_train)\n",
    "X_test = pca.transform(X_test)\n",
    "pca.explained_variance_ratio_"
   ]
  },
  {
   "cell_type": "markdown",
   "metadata": {
    "id": "v4S2fyIBYDcu"
   },
   "source": [
    "## Training the Random Forest Regression model on the whole dataset"
   ]
  },
  {
   "cell_type": "code",
   "execution_count": 48,
   "metadata": {
    "colab": {
     "base_uri": "https://localhost:8080/"
    },
    "executionInfo": {
     "elapsed": 1596,
     "status": "ok",
     "timestamp": 1628538616850,
     "user": {
      "displayName": "ehsan shahini",
      "photoUrl": "https://lh3.googleusercontent.com/a-/AOh14GhK1vTSveBPWKMvfgtbVVT61zF9sibaB_uE6Ck0aw=s64",
      "userId": "16904200120619106608"
     },
     "user_tz": 360
    },
    "id": "o8dOCoJ1YKMc",
    "outputId": "b8186ab0-a860-470c-8738-8474d485490e"
   },
   "outputs": [
    {
     "data": {
      "text/plain": [
       "RandomForestRegressor(random_state=41)"
      ]
     },
     "execution_count": 48,
     "metadata": {},
     "output_type": "execute_result"
    }
   ],
   "source": [
    "from sklearn.ensemble import RandomForestRegressor\n",
    "regressor = RandomForestRegressor(n_estimators = 100, random_state = 41)\n",
    "regressor.fit(X_train, y_train)"
   ]
  },
  {
   "cell_type": "code",
   "execution_count": 55,
   "metadata": {},
   "outputs": [
    {
     "data": {
      "text/plain": [
       "RandomForestRegressor(max_depth=10, max_features='sqrt', min_samples_leaf=2,\n",
       "                      min_samples_split=5, n_estimators=1000)"
      ]
     },
     "execution_count": 55,
     "metadata": {},
     "output_type": "execute_result"
    }
   ],
   "source": [
    "regressor = RandomForestRegressor(n_estimators= 1000,\n",
    "min_samples_split= 5,\n",
    " min_samples_leaf= 2,\n",
    " max_features= 'sqrt',\n",
    " max_depth= 10,\n",
    " bootstrap = True)\n",
    "regressor.fit(X_train, y_train)"
   ]
  },
  {
   "cell_type": "markdown",
   "metadata": {
    "id": "DM_jh0frOPKE"
   },
   "source": [
    "## Predicting the Test set results"
   ]
  },
  {
   "cell_type": "code",
   "execution_count": 56,
   "metadata": {
    "colab": {
     "base_uri": "https://localhost:8080/"
    },
    "executionInfo": {
     "elapsed": 136,
     "status": "ok",
     "timestamp": 1628538619155,
     "user": {
      "displayName": "ehsan shahini",
      "photoUrl": "https://lh3.googleusercontent.com/a-/AOh14GhK1vTSveBPWKMvfgtbVVT61zF9sibaB_uE6Ck0aw=s64",
      "userId": "16904200120619106608"
     },
     "user_tz": 360
    },
    "id": "JGa9ZfM4OTNw",
    "outputId": "ebf4149f-8778-4c81-9192-ac5aca86a479"
   },
   "outputs": [
    {
     "name": "stdout",
     "output_type": "stream",
     "text": [
      "[[0.779 1.335]\n",
      " [0.763 0.796]\n",
      " [0.593 0.539]\n",
      " ...\n",
      " [0.092 0.1  ]\n",
      " [0.067 0.07 ]\n",
      " [0.093 0.121]]\n"
     ]
    }
   ],
   "source": [
    "y_pred = regressor.predict(X_test)\n",
    "np.set_printoptions(precision=3,suppress=True)\n",
    "predVSact_test = np.concatenate((y_pred.reshape(len(y_pred),1), y_test.reshape(len(y_test),1)),1)\n",
    "np.savetxt('predVSact_test.csv', predVSact_test, delimiter=',')\n",
    "print(predVSact_test)"
   ]
  },
  {
   "cell_type": "code",
   "execution_count": 58,
   "metadata": {
    "colab": {
     "base_uri": "https://localhost:8080/"
    },
    "executionInfo": {
     "elapsed": 132,
     "status": "ok",
     "timestamp": 1628538619986,
     "user": {
      "displayName": "ehsan shahini",
      "photoUrl": "https://lh3.googleusercontent.com/a-/AOh14GhK1vTSveBPWKMvfgtbVVT61zF9sibaB_uE6Ck0aw=s64",
      "userId": "16904200120619106608"
     },
     "user_tz": 360
    },
    "id": "KRsZd-Wvjkdj",
    "outputId": "822c311c-f268-4e8a-b321-14ae17ee4f73"
   },
   "outputs": [
    {
     "name": "stdout",
     "output_type": "stream",
     "text": [
      "[[0.071 0.068]\n",
      " [0.08  0.068]\n",
      " [0.714 0.773]\n",
      " ...\n",
      " [0.068 0.06 ]\n",
      " [0.351 0.21 ]\n",
      " [0.072 0.03 ]]\n"
     ]
    }
   ],
   "source": [
    "y_pred_train = regressor.predict(X_train)\n",
    "np.set_printoptions(precision=3,suppress=True)\n",
    "predVSact_train = np.concatenate((y_pred_train.reshape(len(y_pred_train),1), y_train.reshape(len(y_train),1)),1)\n",
    "np.savetxt('predVSact_test.csv', predVSact_test, delimiter=',')\n",
    "print(predVSact_train)"
   ]
  },
  {
   "cell_type": "markdown",
   "metadata": {
    "id": "Cd8VZM5POWXN"
   },
   "source": [
    "## Evaluating the Model Performance"
   ]
  },
  {
   "cell_type": "code",
   "execution_count": 59,
   "metadata": {
    "colab": {
     "base_uri": "https://localhost:8080/"
    },
    "executionInfo": {
     "elapsed": 257,
     "status": "ok",
     "timestamp": 1628538621446,
     "user": {
      "displayName": "ehsan shahini",
      "photoUrl": "https://lh3.googleusercontent.com/a-/AOh14GhK1vTSveBPWKMvfgtbVVT61zF9sibaB_uE6Ck0aw=s64",
      "userId": "16904200120619106608"
     },
     "user_tz": 360
    },
    "id": "hWe-Qt6-sc7c",
    "outputId": "4ad61b7e-9da4-446a-afa0-548b06803374"
   },
   "outputs": [
    {
     "data": {
      "text/plain": [
       "0.03751462947666665"
      ]
     },
     "execution_count": 59,
     "metadata": {},
     "output_type": "execute_result"
    }
   ],
   "source": [
    "from sklearn.metrics import mean_squared_error\n",
    "mean_squared_error(y_test, y_pred)"
   ]
  },
  {
   "cell_type": "code",
   "execution_count": 60,
   "metadata": {
    "colab": {
     "base_uri": "https://localhost:8080/"
    },
    "executionInfo": {
     "elapsed": 2,
     "status": "ok",
     "timestamp": 1628538621888,
     "user": {
      "displayName": "ehsan shahini",
      "photoUrl": "https://lh3.googleusercontent.com/a-/AOh14GhK1vTSveBPWKMvfgtbVVT61zF9sibaB_uE6Ck0aw=s64",
      "userId": "16904200120619106608"
     },
     "user_tz": 360
    },
    "id": "jngL2kwEV-62",
    "outputId": "c436a327-a944-4e35-fc18-900e665fee72"
   },
   "outputs": [
    {
     "data": {
      "text/plain": [
       "0.019978644382944572"
      ]
     },
     "execution_count": 60,
     "metadata": {},
     "output_type": "execute_result"
    }
   ],
   "source": [
    "mean_squared_error(y_train, y_pred_train)"
   ]
  },
  {
   "cell_type": "code",
   "execution_count": 61,
   "metadata": {
    "colab": {
     "base_uri": "https://localhost:8080/"
    },
    "executionInfo": {
     "elapsed": 148,
     "status": "ok",
     "timestamp": 1628538622709,
     "user": {
      "displayName": "ehsan shahini",
      "photoUrl": "https://lh3.googleusercontent.com/a-/AOh14GhK1vTSveBPWKMvfgtbVVT61zF9sibaB_uE6Ck0aw=s64",
      "userId": "16904200120619106608"
     },
     "user_tz": 360
    },
    "id": "a7y1rXlfOZJo",
    "outputId": "bcc35c35-4e68-4b6e-c032-1f1619c8a11c"
   },
   "outputs": [
    {
     "data": {
      "text/plain": [
       "0.8262088829222044"
      ]
     },
     "execution_count": 61,
     "metadata": {},
     "output_type": "execute_result"
    }
   ],
   "source": [
    "from sklearn.metrics import r2_score\n",
    "r2_score(y_test, y_pred)"
   ]
  },
  {
   "cell_type": "code",
   "execution_count": 62,
   "metadata": {
    "colab": {
     "base_uri": "https://localhost:8080/"
    },
    "executionInfo": {
     "elapsed": 130,
     "status": "ok",
     "timestamp": 1628538590120,
     "user": {
      "displayName": "ehsan shahini",
      "photoUrl": "https://lh3.googleusercontent.com/a-/AOh14GhK1vTSveBPWKMvfgtbVVT61zF9sibaB_uE6Ck0aw=s64",
      "userId": "16904200120619106608"
     },
     "user_tz": 360
    },
    "id": "er7_d78jk_R6",
    "outputId": "b36db96b-c7e2-4fc7-84b9-c6b30772ebe3"
   },
   "outputs": [
    {
     "data": {
      "text/plain": [
       "0.9035502980545156"
      ]
     },
     "execution_count": 62,
     "metadata": {},
     "output_type": "execute_result"
    }
   ],
   "source": [
    "r2_score(y_train, y_pred_train)"
   ]
  },
  {
   "cell_type": "markdown",
   "metadata": {
    "id": "jCYzsbtkfdPX"
   },
   "source": [
    "## Feature importances "
   ]
  },
  {
   "cell_type": "markdown",
   "metadata": {
    "id": "Pab0v9ajeTp3"
   },
   "source": [
    "### 1. Default Scikit-learn’s feature importances"
   ]
  },
  {
   "cell_type": "code",
   "execution_count": 17,
   "metadata": {},
   "outputs": [],
   "source": [
    "y_train=pd.DataFrame(data=y_train)\n",
    "X_train=pd.DataFrame(data=X_train)"
   ]
  },
  {
   "cell_type": "code",
   "execution_count": 18,
   "metadata": {
    "id": "lfVRVstsd36L"
   },
   "outputs": [
    {
     "name": "stdout",
     "output_type": "stream",
     "text": [
      "Elapsed time to compute the importances: 0.024 seconds\n"
     ]
    }
   ],
   "source": [
    "import time\n",
    "import numpy as np\n",
    "\n",
    "start_time = time.time()\n",
    "importances = regressor.feature_importances_\n",
    "std = np.std([\n",
    "    tree.feature_importances_ for tree in regressor.estimators_], axis=0)\n",
    "elapsed_time = time.time() - start_time\n",
    "\n",
    "print(f\"Elapsed time to compute the importances: \"\n",
    "      f\"{elapsed_time:.3f} seconds\")"
   ]
  },
  {
   "cell_type": "code",
   "execution_count": 19,
   "metadata": {
    "id": "cn4HaH7weI-w"
   },
   "outputs": [
    {
     "data": {
      "image/png": "[encoded data removed]",
      "text/plain": [
       "<Figure size 432x288 with 1 Axes>"
      ]
     },
     "metadata": {
      "needs_background": "light"
     },
     "output_type": "display_data"
    }
   ],
   "source": [
    "feature_names = list(dataset.columns)[:4]\n",
    "forest_importances = pd.Series(importances, index=feature_names)\n",
    "\n",
    "fig, ax = plt.subplots()\n",
    "forest_importances.plot.bar(yerr=std, ax=ax)\n",
    "ax.set_title(\"Feature importances using MDI\")\n",
    "ax.set_ylabel(\"Mean decrease in impurity\")\n",
    "fig.tight_layout()"
   ]
  },
  {
   "cell_type": "markdown",
   "metadata": {
    "id": "WPemeHa_hwoG"
   },
   "source": [
    "### 2. Permutation Importance using default sklean"
   ]
  },
  {
   "cell_type": "code",
   "execution_count": 20,
   "metadata": {
    "id": "i7weBQ8jhiOL"
   },
   "outputs": [
    {
     "name": "stdout",
     "output_type": "stream",
     "text": [
      "Elapsed time to compute the importances: 9.691 seconds\n"
     ]
    }
   ],
   "source": [
    "from sklearn.inspection import permutation_importance\n",
    "\n",
    "result = permutation_importance(\n",
    "    regressor, X_train, y_train, n_repeats=10, random_state=42, n_jobs=2)\n",
    "elapsed_time = time.time() - start_time\n",
    "print(f\"Elapsed time to compute the importances: \"\n",
    "      f\"{elapsed_time:.3f} seconds\")\n",
    "\n",
    "forest_importances = pd.Series(result.importances_mean, index=feature_names)"
   ]
  },
  {
   "cell_type": "code",
   "execution_count": 21,
   "metadata": {
    "id": "5N8Om6Fxi2Ge"
   },
   "outputs": [
    {
     "data": {
      "image/png": "[encoded data removed]",
      "text/plain": [
       "<Figure size 1332x756 with 1 Axes>"
      ]
     },
     "metadata": {
      "needs_background": "light"
     },
     "output_type": "display_data"
    }
   ],
   "source": [
    "fig, ax = plt.subplots()\n",
    "forest_importances.plot.bar(yerr=result.importances_std, ax=ax)\n",
    "ax.set_title(\"Feature importances using permutation on full model\")\n",
    "ax.set_ylabel(\"Mean accuracy decrease\")\n",
    "fig.tight_layout()\n",
    "fig.set_size_inches(18.5, 10.5) \n",
    "plt.rcParams.update({'font.size': 30})\n",
    "plt.show()"
   ]
  },
  {
   "cell_type": "markdown",
   "metadata": {
    "id": "cFpERC_9k7KD"
   },
   "source": [
    "### 3. Permutation Importance using rfpimp Lib"
   ]
  },
  {
   "cell_type": "code",
   "execution_count": 22,
   "metadata": {
    "id": "WDktPV0alwwG"
   },
   "outputs": [
    {
     "name": "stdout",
     "output_type": "stream",
     "text": [
      "Collecting rfpimp\n",
      "  Downloading rfpimp-1.3.7.tar.gz (10 kB)\n",
      "Requirement already satisfied: numpy in c:\\users\\shahini\\anaconda3\\lib\\site-packages (from rfpimp) (1.20.1)\n",
      "Requirement already satisfied: pandas in c:\\users\\shahini\\anaconda3\\lib\\site-packages (from rfpimp) (1.2.4)\n",
      "Requirement already satisfied: scikit-learn in c:\\users\\shahini\\anaconda3\\lib\\site-packages (from rfpimp) (0.24.1)\n",
      "Requirement already satisfied: matplotlib in c:\\users\\shahini\\anaconda3\\lib\\site-packages (from rfpimp) (3.3.4)\n",
      "Requirement already satisfied: pillow>=6.2.0 in c:\\users\\shahini\\anaconda3\\lib\\site-packages (from matplotlib->rfpimp) (8.2.0)\n",
      "Requirement already satisfied: python-dateutil>=2.1 in c:\\users\\shahini\\anaconda3\\lib\\site-packages (from matplotlib->rfpimp) (2.8.1)\n",
      "Requirement already satisfied: kiwisolver>=1.0.1 in c:\\users\\shahini\\anaconda3\\lib\\site-packages (from matplotlib->rfpimp) (1.3.1)\n",
      "Requirement already satisfied: pyparsing!=2.0.4,!=2.1.2,!=2.1.6,>=2.0.3 in c:\\users\\shahini\\anaconda3\\lib\\site-packages (from matplotlib->rfpimp) (2.4.7)\n",
      "Requirement already satisfied: cycler>=0.10 in c:\\users\\shahini\\anaconda3\\lib\\site-packages (from matplotlib->rfpimp) (0.10.0)\n",
      "Requirement already satisfied: six in c:\\users\\shahini\\anaconda3\\lib\\site-packages (from cycler>=0.10->matplotlib->rfpimp) (1.15.0)\n",
      "Requirement already satisfied: pytz>=2017.3 in c:\\users\\shahini\\anaconda3\\lib\\site-packages (from pandas->rfpimp) (2021.1)\n",
      "Requirement already satisfied: scipy>=0.19.1 in c:\\users\\shahini\\anaconda3\\lib\\site-packages (from scikit-learn->rfpimp) (1.6.2)\n",
      "Requirement already satisfied: threadpoolctl>=2.0.0 in c:\\users\\shahini\\anaconda3\\lib\\site-packages (from scikit-learn->rfpimp) (2.1.0)\n",
      "Requirement already satisfied: joblib>=0.11 in c:\\users\\shahini\\anaconda3\\lib\\site-packages (from scikit-learn->rfpimp) (1.0.1)\n",
      "Building wheels for collected packages: rfpimp\n",
      "  Building wheel for rfpimp (setup.py): started\n",
      "  Building wheel for rfpimp (setup.py): finished with status 'done'\n",
      "  Created wheel for rfpimp: filename=rfpimp-1.3.7-py3-none-any.whl size=10668 sha256=cf0d08a62dec2f40f41b73ce0952024822b07fed224494ead762f845d33b2fc8\n",
      "  Stored in directory: c:\\users\\shahini\\appdata\\local\\pip\\cache\\wheels\\8a\\42\\e5\\d2e9d77df351103d7d16dbc82ce6090cb2f71cee74b7380b7b\n",
      "Successfully built rfpimp\n",
      "Installing collected packages: rfpimp\n",
      "Successfully installed rfpimp-1.3.7\n",
      "Note: you may need to restart the kernel to use updated packages.\n"
     ]
    }
   ],
   "source": [
    "pip install rfpimp"
   ]
  },
  {
   "cell_type": "code",
   "execution_count": 23,
   "metadata": {
    "id": "-SLYVN-MlR4G"
   },
   "outputs": [],
   "source": [
    "from rfpimp import permutation_importances\n",
    "\n",
    "def r2(rf, X_train, y_train):\n",
    "    return r2_score(y_train, regressor.predict(X_train))\n",
    "\n",
    "perm_imp_rfpimp = permutation_importances(regressor, X_train, y_train, r2)"
   ]
  },
  {
   "cell_type": "code",
   "execution_count": 24,
   "metadata": {
    "id": "nq4AqwyBl5wz"
   },
   "outputs": [
    {
     "data": {
      "image/png": "[encoded data removed]",
      "text/plain": [
       "<Figure size 1332x756 with 1 Axes>"
      ]
     },
     "metadata": {
      "needs_background": "light"
     },
     "output_type": "display_data"
    }
   ],
   "source": [
    "fig, ax = plt.subplots()\n",
    "perm_imp_rfpimp.plot.bar(yerr=result.importances_std, ax=ax)\n",
    "ax.set_title(\"Feature importances using permutation on full model\")\n",
    "ax.set_ylabel(\"Mean accuracy decrease\")\n",
    "fig.tight_layout()\n",
    "fig.set_size_inches(18.5, 10.5) \n",
    "plt.rcParams.update({'font.size': 30})\n",
    "plt.show()"
   ]
  },
  {
   "cell_type": "markdown",
   "metadata": {},
   "source": [
    "## Learning curve"
   ]
  },
  {
   "cell_type": "code",
   "execution_count": 30,
   "metadata": {
    "id": "VJVLoRtmx8MZ"
   },
   "outputs": [],
   "source": [
    "from sklearn.model_selection import learning_curve\n",
    "train_sizes, train_scores, test_scores = learning_curve(regressor, X, y, cv=5, scoring='neg_mean_squared_error', n_jobs=-1, train_sizes=np.linspace(0.01, 1.0, 50))"
   ]
  },
  {
   "cell_type": "code",
   "execution_count": 31,
   "metadata": {
    "id": "dKhDsDdKx8MZ"
   },
   "outputs": [],
   "source": [
    "train_mean = np.mean(train_scores, axis=1)\n",
    "train_std = np.std(train_scores, axis=1)\n",
    "\n",
    "test_mean = np.mean(test_scores, axis=1)\n",
    "test_std = np.std(test_scores, axis=1)"
   ]
  },
  {
   "cell_type": "code",
   "execution_count": 32,
   "metadata": {
    "id": "O7z4tfbxx8MZ"
   },
   "outputs": [
    {
     "data": {
      "image/png": "[encoded data removed]",
      "text/plain": [
       "<Figure size 720x720 with 1 Axes>"
      ]
     },
     "metadata": {
      "needs_background": "light"
     },
     "output_type": "display_data"
    }
   ],
   "source": [
    "plt.subplots(1, figsize=(10,10))\n",
    "plt.plot(train_sizes, train_mean, '--', color=\"#111111\",  label=\"Training score\")\n",
    "plt.plot(train_sizes, test_mean, color=\"#111111\", label=\"Cross-validation score\")\n",
    "\n",
    "plt.fill_between(train_sizes, train_mean - train_std, train_mean + train_std, color=\"#DDDDDD\")\n",
    "plt.fill_between(train_sizes, test_mean - test_std, test_mean + test_std, color=\"#DDDDDD\")\n",
    "\n",
    "plt.title(\"Learning Curve\")\n",
    "plt.xlabel(\"Training Set Size\"), plt.ylabel(\"Accuracy Score\"), plt.legend(loc=\"best\")\n",
    "plt.tight_layout()\n",
    "plt.show()"
   ]
  },
  {
   "cell_type": "markdown",
   "metadata": {},
   "source": [
    "## Saving the model"
   ]
  },
  {
   "cell_type": "code",
   "execution_count": 63,
   "metadata": {},
   "outputs": [
    {
     "data": {
      "text/plain": [
       "['./RF_EL_strain.joblib']"
      ]
     },
     "execution_count": 63,
     "metadata": {},
     "output_type": "execute_result"
    }
   ],
   "source": [
    "import joblib\n",
    "joblib.dump(regressor, \"./RF_EL_strain.joblib\")"
   ]
  },
  {
   "cell_type": "code",
   "execution_count": 16,
   "metadata": {},
   "outputs": [],
   "source": [
    "import joblib\n",
    "regressor = joblib.load(\"./RF_EL.joblib\")"
   ]
  },
  {
   "cell_type": "code",
   "execution_count": 37,
   "metadata": {},
   "outputs": [
    {
     "data": {
      "text/plain": [
       "array([5.79])"
      ]
     },
     "execution_count": 37,
     "metadata": {},
     "output_type": "execute_result"
    }
   ],
   "source": [
    "regressor.predict([[10,45,10]])"
   ]
  },
  {
   "cell_type": "code",
   "execution_count": null,
   "metadata": {},
   "outputs": [],
   "source": []
  }
 ],
 "metadata": {
  "colab": {
   "collapsed_sections": [],
   "name": "RF_El.ipynb",
   "provenance": []
  },
  "kernelspec": {
   "display_name": "Python 3",
   "language": "python",
   "name": "python3"
  },
  "language_info": {
   "codemirror_mode": {
    "name": "ipython",
    "version": 3
   },
   "file_extension": ".py",
   "mimetype": "text/x-python",
   "name": "python",
   "nbconvert_exporter": "python",
   "pygments_lexer": "ipython3",
   "version": "3.8.8"
  }
 },
 "nbformat": 4,
 "nbformat_minor": 1
}
